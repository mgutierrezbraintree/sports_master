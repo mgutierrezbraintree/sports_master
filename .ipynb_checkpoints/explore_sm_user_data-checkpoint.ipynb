{
 "cells": [
  {
   "cell_type": "code",
   "execution_count": 3,
   "metadata": {
    "collapsed": true
   },
   "outputs": [],
   "source": [
    "import os\n",
    "import sys\n",
    "import MySQLdb\n",
    "import numpy as np\n",
    "import pandas as pd\n",
    "\n",
    "from creds import *"
   ]
  },
  {
   "cell_type": "code",
   "execution_count": 7,
   "metadata": {},
   "outputs": [],
   "source": [
    "## Connect to MySQL database\n",
    "conn = MySQLdb.connect(host='localhost', user='root', passwd=MYSQL_PASSWORD, db='agg_sm')\n",
    "query = \"SELECT * FROM sm_checks_unique LIMIT 100;\"\n",
    "users_df = pd.read_sql(query, con=conn)\n",
    "conn.close()"
   ]
  }
 ],
 "metadata": {
  "kernelspec": {
   "display_name": "Python 3",
   "language": "python",
   "name": "python3"
  },
  "language_info": {
   "codemirror_mode": {
    "name": "ipython",
    "version": 3
   },
   "file_extension": ".py",
   "mimetype": "text/x-python",
   "name": "python",
   "nbconvert_exporter": "python",
   "pygments_lexer": "ipython3",
   "version": "3.6.1"
  }
 },
 "nbformat": 4,
 "nbformat_minor": 2
}
